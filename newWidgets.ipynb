{
 "cells": [
  {
   "cell_type": "code",
   "execution_count": 5,
   "metadata": {
    "collapsed": false,
    "deletable": true,
    "editable": true
   },
   "outputs": [
    {
     "name": "stdout",
     "output_type": "stream",
     "text": [
      "ON\n",
      "Iced Tea\n",
      "Peach Lemonade\n"
     ]
    }
   ],
   "source": [
    "from IPython import display\n",
    "from ipywidgets import widgets\n",
    "from main import*\n",
    "from drinks import*\n",
    "\n",
    "def stage_1 (change):\n",
    "    if (change['new']):\n",
    "        print(\"ON\")\n",
    "        html.value=\"<b>STAGE 1 </b>\"\n",
    "        drop.options = name\n",
    "        drop.observe(stage_2,'value')\n",
    "            \n",
    "    else:\n",
    "        print(\"RESET\")\n",
    "        \n",
    "        \n",
    "    \n",
    "    return\n",
    "#### -----------------------------------------------------------\n",
    "\n",
    "def stage_2(change):\n",
    "    if change['type'] == 'change' and change['name'] == 'value':\n",
    "        html.value=\"<b>STAGE 2</b>\"\n",
    "        i = 0\n",
    "        for d in drinks:\n",
    "            if (change['new'] == d.getDrinkName() ):\n",
    "                typeOfDrink = d\n",
    "                print (typeOfDrink.drinkName)\n",
    "                startButton.disabled=False\n",
    "                startButton.description='START DRINK'\n",
    "                startButton.button_style='danger'\n",
    "                startButton.on_click(stage_3)\n",
    "                return\n",
    "            else:\n",
    "                i+=1\n",
    "                \n",
    "    return\n",
    "\n",
    "#### -----------------------------------------------------------\n",
    "def stage_3(change):\n",
    "    startButton.disabled=True\n",
    "    html.value=\"<b>STAGE 3</b>\"\n",
    "    text.value=\"Pouring drink now...\"\n",
    "    ##make drink\n",
    "    typeOfDrink = None\n",
    "\n",
    "    return\n",
    "#### -----------------------------------------------------------\n",
    "def checkLiquids(change):\n",
    "    startButton.disabled=True\n",
    "#     text.value=\"later\"\n",
    "#     for b in bottleDictionary:\n",
    "#         print(bottleDiction[b].getInfo())    \n",
    "\n",
    "    return\n",
    "#### -----------------------------------------------------------\n",
    "\n",
    "\n",
    "typeOfDrink = None\n",
    "name = []\n",
    "toggle = widgets.ToggleButton()\n",
    "valid = widgets.Valid()\n",
    "drop = widgets.Dropdown()\n",
    "startButton = widgets.Button()\n",
    "bottleLevel = widgets.Button()\n",
    "html = widgets.HTML()\n",
    "text = widgets.Label()\n",
    "finish = widgets.Label()\n",
    "\n",
    "\n",
    "#### INITIAL ----------------------------------------------------\n",
    "toggle.description = \"TAP TO GET LIT\"\n",
    "#---------------------------\n",
    "bottleLevel.disabled=False\n",
    "bottleLevel.description='BOTTLE LEVEL'\n",
    "bottleLevel.button_style='warning'\n",
    "#---------------------------\n",
    "loadFile(drinkFile)\n",
    "name = []\n",
    "for d in drinks:\n",
    "    name.append(d.getDrinkName())\n",
    "\n",
    "container2 = widgets.HBox([startButton,bottleLevel])\n",
    "container_button = widgets.VBox([html,toggle,drop,container2,text,finish])\n",
    "toggle.observe(stage_1,'value')\n",
    "bottleLevel.on_click(checkLiquids)\n",
    "display.display(container_button)\n",
    "\n"
   ]
  }
 ],
 "metadata": {
  "kernelspec": {
   "display_name": "Python 3",
   "language": "python",
   "name": "python3"
  },
  "language_info": {
   "codemirror_mode": {
    "name": "ipython",
    "version": 3
   },
   "file_extension": ".py",
   "mimetype": "text/x-python",
   "name": "python",
   "nbconvert_exporter": "python",
   "pygments_lexer": "ipython3",
   "version": "3.6.0"
  },
  "widgets": {
   "state": {
    "ddf0cff730284a0ea885b5145254aea2": {
     "views": [
      {
       "cell_index": 0
      }
     ]
    }
   },
   "version": "1.2.0"
  }
 },
 "nbformat": 4,
 "nbformat_minor": 2
}
